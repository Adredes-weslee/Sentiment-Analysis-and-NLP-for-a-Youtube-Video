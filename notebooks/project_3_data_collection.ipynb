{
 "cells": [
  {
   "cell_type": "code",
   "execution_count": 1,
   "id": "19d7a862-ce2a-4e85-ad5d-5ec0dfc15a52",
   "metadata": {},
   "outputs": [],
   "source": [
    "# Import libraries\n",
    "import googleapiclient.discovery\n",
    "import googleapiclient.errors\n",
    "import pandas as pd\n",
    "import os\n",
    "import csv"
   ]
  },
  {
   "cell_type": "code",
   "execution_count": 2,
   "id": "e6ff96c5-9bd2-48ed-8787-aa31340c4151",
   "metadata": {},
   "outputs": [],
   "source": [
    "# Function to retrieve comments and replies for a video\n",
    "def get_comments_and_replies(video_id, page_token=None):\n",
    "    try:\n",
    "        # Make a request to the YouTube API to retrieve comment threads\n",
    "        response = youtube.commentThreads().list(\n",
    "            part=\"snippet\",\n",
    "            videoId=video_id,\n",
    "            textFormat=\"plainText\",\n",
    "            pageToken=page_token,\n",
    "            maxResults=1000\n",
    "        ).execute()\n",
    "\n",
    "        # Initialize a list to store comments and replies\n",
    "        comments_and_replies = []\n",
    "        \n",
    "        # Get the next page token for pagination\n",
    "        next_page_token = response.get(\"nextPageToken\")\n",
    "        \n",
    "        # Loop through the items in the API response and extract comments and replies\n",
    "        for item in response[\"items\"]:\n",
    "            # Extract the comment text from the top-level comment snippet\n",
    "            comment = item[\"snippet\"][\"topLevelComment\"][\"snippet\"][\"textDisplay\"]\n",
    "            comments_and_replies.append(comment)\n",
    "\n",
    "            # Check if there are replies to the comment\n",
    "            if \"replies\" in item:\n",
    "                # Loop through each reply item and extract the reply text\n",
    "                for reply_item in item[\"replies\"][\"comments\"]:\n",
    "                    reply = reply_item[\"snippet\"][\"textDisplay\"]\n",
    "                    comments_and_replies.append(reply)\n",
    "\n",
    "        # Return the extracted comments and replies along with the next page token for pagination\n",
    "        return comments_and_replies, next_page_token\n",
    "\n",
    "    # Handle HTTP errors from the API request\n",
    "    except googleapiclient.errors.HttpError as e:\n",
    "        print(f\"An error occurred: {e}\")"
   ]
  },
  {
   "cell_type": "code",
   "execution_count": 1,
   "id": "f7d6007d-ac7e-47ad-a7d6-955eb81756ab",
   "metadata": {},
   "outputs": [
    {
     "ename": "NameError",
     "evalue": "name 'googleapiclient' is not defined",
     "output_type": "error",
     "traceback": [
      "\u001b[1;31m---------------------------------------------------------------------------\u001b[0m",
      "\u001b[1;31mNameError\u001b[0m                                 Traceback (most recent call last)",
      "Cell \u001b[1;32mIn[1], line 6\u001b[0m\n\u001b[0;32m      4\u001b[0m DEVELOPER_KEY \u001b[38;5;241m=\u001b[39m \u001b[38;5;124m'\u001b[39m\u001b[38;5;124m'\u001b[39m\n\u001b[0;32m      5\u001b[0m \u001b[38;5;66;03m# Create a YouTube API client\u001b[39;00m\n\u001b[1;32m----> 6\u001b[0m youtube \u001b[38;5;241m=\u001b[39m \u001b[43mgoogleapiclient\u001b[49m\u001b[38;5;241m.\u001b[39mdiscovery\u001b[38;5;241m.\u001b[39mbuild(\n\u001b[0;32m      7\u001b[0m         api_service_name, api_version, developerKey \u001b[38;5;241m=\u001b[39m DEVELOPER_KEY)\n\u001b[0;32m      8\u001b[0m \u001b[38;5;66;03m# Video ID of the YouTube video to retrieve comments for\u001b[39;00m\n\u001b[0;32m      9\u001b[0m video_id \u001b[38;5;241m=\u001b[39m \u001b[38;5;124m\"\u001b[39m\u001b[38;5;124mkffacxfA7G4\u001b[39m\u001b[38;5;124m\"\u001b[39m\n",
      "\u001b[1;31mNameError\u001b[0m: name 'googleapiclient' is not defined"
     ]
    }
   ],
   "source": [
    "# API information\n",
    "api_service_name = \"youtube\"\n",
    "api_version = \"v3\"\n",
    "DEVELOPER_KEY = ''\n",
    "# Create a YouTube API client\n",
    "youtube = googleapiclient.discovery.build(\n",
    "        api_service_name, api_version, developerKey = DEVELOPER_KEY)\n",
    "# Video ID of the YouTube video to retrieve comments for\n",
    "video_id = \"kffacxfA7G4\""
   ]
  },
  {
   "cell_type": "code",
   "execution_count": 4,
   "id": "9ef6819e-e027-4a47-aac6-bfc3beeb9611",
   "metadata": {},
   "outputs": [],
   "source": [
    "# Get all comments and replies for the specified video\n",
    "all_comments_and_replies = []\n",
    "# Initialize the next page token to None\n",
    "next_page_token = None\n",
    "\n",
    "# Iterate through pages of comments and replies 1000 times to collect approximately 100,000 comments/replies\n",
    "for i in range(1000):\n",
    "    # Call the get_comments_and_replies function to retrieve comments and replies\n",
    "    comments_and_replies, next_page_token = get_comments_and_replies(video_id, page_token=next_page_token)\n",
    "    # Extend the all_comments_and_replies list with the retrieved comments and replies\n",
    "    all_comments_and_replies.extend(comments_and_replies)\n",
    "    # If there is no next page token, break out of the loop\n",
    "    if next_page_token is None:\n",
    "        break"
   ]
  },
  {
   "cell_type": "code",
   "execution_count": 6,
   "id": "c28df356-14a9-4597-9097-f4929834348b",
   "metadata": {},
   "outputs": [
    {
     "name": "stdout",
     "output_type": "stream",
     "text": [
      "Comments saved to youtube_comments_kffacxfA7G4.csv\n"
     ]
    }
   ],
   "source": [
    "# Name of the CSV file to be created\n",
    "csv_filename = \"youtube_comments_kffacxfA7G4.csv\"\n",
    "\n",
    "# Open the CSV file in write mode with UTF-8 encoding\n",
    "with open(csv_filename, mode=\"w\", newline=\"\", encoding=\"utf-8\") as file:\n",
    "    # Create a CSV writer object\n",
    "    writer = csv.writer(file)\n",
    "    # Write a header row with the column name \"Comment\"\n",
    "    writer.writerow([\"Comment\"])\n",
    "    # Iterate through each comment or reply in the all_comments_and_replies list\n",
    "    for entry in all_comments_and_replies:\n",
    "        # Write each comment or reply as a separate row in the CSV file\n",
    "        writer.writerow([entry])\n",
    "\n",
    "# Print a message indicating the successful saving of comments to the CSV file\n",
    "print(f\"Comments saved to {csv_filename}\")"
   ]
  },
  {
   "cell_type": "code",
   "execution_count": null,
   "id": "6bddeb78-89c2-4c36-b873-cd759f6b4a8e",
   "metadata": {},
   "outputs": [],
   "source": []
  }
 ],
 "metadata": {
  "kernelspec": {
   "display_name": "Python 3 (ipykernel)",
   "language": "python",
   "name": "python3"
  },
  "language_info": {
   "codemirror_mode": {
    "name": "ipython",
    "version": 3
   },
   "file_extension": ".py",
   "mimetype": "text/x-python",
   "name": "python",
   "nbconvert_exporter": "python",
   "pygments_lexer": "ipython3",
   "version": "3.10.10"
  }
 },
 "nbformat": 4,
 "nbformat_minor": 5
}
